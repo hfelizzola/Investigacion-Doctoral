{
 "cells": [
  {
   "cell_type": "markdown",
   "metadata": {},
   "source": [
    "# Crear variables del Secop I"
   ]
  },
  {
   "cell_type": "code",
   "execution_count": 1,
   "metadata": {},
   "outputs": [],
   "source": [
    "# Importar librerias\n",
    "import pandas as pd\n",
    "import numpy as np\n",
    "import matplotlib.pyplot as plt"
   ]
  },
  {
   "cell_type": "code",
   "execution_count": 2,
   "metadata": {},
   "outputs": [],
   "source": [
    "# Cargar datos\n",
    "contratos = pd.read_csv('Datos/secop_ips_i_limpia.gz')\n",
    "ips = pd.read_csv(\"Datos/IPS.csv\")"
   ]
  },
  {
   "cell_type": "code",
   "execution_count": 3,
   "metadata": {},
   "outputs": [
    {
     "name": "stdout",
     "output_type": "stream",
     "text": [
      "<class 'pandas.core.frame.DataFrame'>\n",
      "RangeIndex: 1391448 entries, 0 to 1391447\n",
      "Data columns (total 46 columns):\n",
      " #   Column                            Non-Null Count    Dtype  \n",
      "---  ------                            --------------    -----  \n",
      " 0   anno_cargue                       1391448 non-null  int64  \n",
      " 1   anno_firma                        1391448 non-null  float64\n",
      " 2   nivel_entidad                     1391448 non-null  object \n",
      " 3   orden_entidad                     1391448 non-null  object \n",
      " 4   nombre_entidad                    1391448 non-null  object \n",
      " 5   nit_entidad                       1391448 non-null  object \n",
      " 6   tipo_proceso                      1391448 non-null  object \n",
      " 7   estado_proceso                    1391448 non-null  object \n",
      " 8   causa_otras_formas_contr_directa  1391448 non-null  object \n",
      " 9   regimen_contratacion              1391448 non-null  object \n",
      " 10  objeto_contratar                  1391448 non-null  object \n",
      " 11  detalle_objeto_contratar          1391442 non-null  object \n",
      " 12  tipo_contrato                     1391448 non-null  object \n",
      " 13  municipio_obtencion               1391448 non-null  object \n",
      " 14  municipio_entrega                 1391448 non-null  object \n",
      " 15  municipio_ejecucion               1391448 non-null  object \n",
      " 16  fecha_cargue_secop                1391448 non-null  object \n",
      " 17  cuantia_proceso                   1391448 non-null  int64  \n",
      " 18  nombre_grupo                      1391448 non-null  object \n",
      " 19  nombre_familia                    1391448 non-null  object \n",
      " 20  nombre_clase                      1391448 non-null  object \n",
      " 21  tipo_id_contratista               1391448 non-null  object \n",
      " 22  id_contratista                    1391438 non-null  object \n",
      " 23  razon_social_contratista          1391443 non-null  object \n",
      " 24  dpto_mcpo_contratista             1391448 non-null  object \n",
      " 25  tipo_doc_representate_legal       1391448 non-null  object \n",
      " 26  id_representante_legal            1390227 non-null  object \n",
      " 27  nombre_representante_legal        1385945 non-null  object \n",
      " 28  fecha_firma_contrato              1391448 non-null  object \n",
      " 29  fecha_inicio_ejec_contrato        1391447 non-null  object \n",
      " 30  plazo_ejec_contrato               1391448 non-null  int64  \n",
      " 31  rango_ejec_contrato               1391448 non-null  object \n",
      " 32  tiempo_adiciones_dias             1391448 non-null  int64  \n",
      " 33  tiempo_adiciones_meses            1391448 non-null  int64  \n",
      " 34  fecha_fin_ejec_contrato           1391447 non-null  object \n",
      " 35  cuantia_contrato                  1391448 non-null  int64  \n",
      " 36  valor_adiciones                   1391448 non-null  int64  \n",
      " 37  valor_total_con_adiciones         1391448 non-null  int64  \n",
      " 38  objeto_contrato_a_la_firma        1391440 non-null  object \n",
      " 39  moneda                            1391448 non-null  object \n",
      " 40  ruta_web                          1391448 non-null  object \n",
      " 41  municipio_entidad                 1391448 non-null  object \n",
      " 42  departamento_entidad              1391448 non-null  object \n",
      " 43  nombre_entidad_mod                1391448 non-null  object \n",
      " 44  dep_codigo_divipola               1391448 non-null  int64  \n",
      " 45  municipio_codigo_divipola         1391448 non-null  int64  \n",
      "dtypes: float64(1), int64(10), object(35)\n",
      "memory usage: 488.3+ MB\n"
     ]
    }
   ],
   "source": [
    "contratos.info()"
   ]
  },
  {
   "cell_type": "code",
   "execution_count": 4,
   "metadata": {},
   "outputs": [
    {
     "data": {
      "text/plain": [
       "count    1.391448e+06\n",
       "mean     2.016986e+03\n",
       "std      1.666464e+00\n",
       "min      2.014000e+03\n",
       "25%      2.016000e+03\n",
       "50%      2.017000e+03\n",
       "75%      2.018000e+03\n",
       "max      2.020000e+03\n",
       "Name: anno_firma, dtype: float64"
      ]
     },
     "execution_count": 4,
     "metadata": {},
     "output_type": "execute_result"
    }
   ],
   "source": [
    "contratos.anno_firma.describe()"
   ]
  },
  {
   "cell_type": "code",
   "execution_count": 5,
   "metadata": {},
   "outputs": [
    {
     "data": {
      "text/plain": [
       "estado_proceso\n",
       "Adjudicado                                           2\n",
       "Borrador                                             1\n",
       "Celebrado                                      1143472\n",
       "Convocado                                           40\n",
       "Liquidado                                       218874\n",
       "Terminado Anormalmente después de Convocado          3\n",
       "Terminado sin Liquidar                           29056\n",
       "dtype: int64"
      ]
     },
     "execution_count": 5,
     "metadata": {},
     "output_type": "execute_result"
    }
   ],
   "source": [
    "contratos.groupby('estado_proceso').size()"
   ]
  },
  {
   "cell_type": "code",
   "execution_count": 18,
   "metadata": {},
   "outputs": [
    {
     "data": {
      "text/plain": [
       "tipo_proceso\n",
       "Asociación Público Privada                                                                     2\n",
       "Concurso de Méritos Abierto                                                                   31\n",
       "Contratación Directa (Ley 1150 de 2007)                                                   291379\n",
       "Contratación Mínima Cuantía                                                                 5338\n",
       "Contratos y convenios con más de dos partes                                                   15\n",
       "Licitación Pública                                                                          1779\n",
       "Licitación obra pública                                                                       25\n",
       "Régimen Especial                                                                         1091915\n",
       "Selección Abreviada de Menor Cuantía (Ley 1150 de 2007)                                      519\n",
       "Selección Abreviada del literal h del numeral 2 del artículo 2 de la Ley 1150 de 2007         11\n",
       "Selección Abreviada servicios de Salud                                                       237\n",
       "Subasta                                                                                      197\n",
       "dtype: int64"
      ]
     },
     "execution_count": 18,
     "metadata": {},
     "output_type": "execute_result"
    }
   ],
   "source": [
    "contratos.groupby('tipo_proceso').size()"
   ]
  },
  {
   "cell_type": "code",
   "execution_count": 7,
   "metadata": {},
   "outputs": [
    {
     "data": {
      "text/html": [
       "<div>\n",
       "<style scoped>\n",
       "    .dataframe tbody tr th:only-of-type {\n",
       "        vertical-align: middle;\n",
       "    }\n",
       "\n",
       "    .dataframe tbody tr th {\n",
       "        vertical-align: top;\n",
       "    }\n",
       "\n",
       "    .dataframe thead th {\n",
       "        text-align: right;\n",
       "    }\n",
       "</style>\n",
       "<table border=\"1\" class=\"dataframe\">\n",
       "  <thead>\n",
       "    <tr style=\"text-align: right;\">\n",
       "      <th></th>\n",
       "      <th>detalle_objeto_contratar</th>\n",
       "    </tr>\n",
       "  </thead>\n",
       "  <tbody>\n",
       "    <tr>\n",
       "      <th>49</th>\n",
       "      <td>SUMINISTRO DE MEDICAMENTOS</td>\n",
       "    </tr>\n",
       "    <tr>\n",
       "      <th>116</th>\n",
       "      <td>SUMINISTRO DE MEDICAMENTOS PARA EL SERVICIO FA...</td>\n",
       "    </tr>\n",
       "    <tr>\n",
       "      <th>119</th>\n",
       "      <td>ADQUISICIÓN DE MEDICAMENTOS PARA LA PRESTACIÓN...</td>\n",
       "    </tr>\n",
       "    <tr>\n",
       "      <th>127</th>\n",
       "      <td>SUMINISTRO DE MATERIAL MEDICO QUIRÚRGICO PARA ...</td>\n",
       "    </tr>\n",
       "    <tr>\n",
       "      <th>136</th>\n",
       "      <td>EL PRESENTE CONTRATO TIENE POR OBJETO EL SUMIN...</td>\n",
       "    </tr>\n",
       "    <tr>\n",
       "      <th>...</th>\n",
       "      <td>...</td>\n",
       "    </tr>\n",
       "    <tr>\n",
       "      <th>1391387</th>\n",
       "      <td>Productos farmaceuticos</td>\n",
       "    </tr>\n",
       "    <tr>\n",
       "      <th>1391390</th>\n",
       "      <td>PRODUCTOS FARMACEUTICOS</td>\n",
       "    </tr>\n",
       "    <tr>\n",
       "      <th>1391396</th>\n",
       "      <td>PRODUCTOS FARMACEUTICOS</td>\n",
       "    </tr>\n",
       "    <tr>\n",
       "      <th>1391406</th>\n",
       "      <td>SUMINISTRO DE MEDICAMENTOS</td>\n",
       "    </tr>\n",
       "    <tr>\n",
       "      <th>1391434</th>\n",
       "      <td>OXIGENO</td>\n",
       "    </tr>\n",
       "  </tbody>\n",
       "</table>\n",
       "<p>81727 rows × 1 columns</p>\n",
       "</div>"
      ],
      "text/plain": [
       "                                  detalle_objeto_contratar\n",
       "49                              SUMINISTRO DE MEDICAMENTOS\n",
       "116      SUMINISTRO DE MEDICAMENTOS PARA EL SERVICIO FA...\n",
       "119      ADQUISICIÓN DE MEDICAMENTOS PARA LA PRESTACIÓN...\n",
       "127      SUMINISTRO DE MATERIAL MEDICO QUIRÚRGICO PARA ...\n",
       "136      EL PRESENTE CONTRATO TIENE POR OBJETO EL SUMIN...\n",
       "...                                                    ...\n",
       "1391387                            Productos farmaceuticos\n",
       "1391390                            PRODUCTOS FARMACEUTICOS\n",
       "1391396                            PRODUCTOS FARMACEUTICOS\n",
       "1391406                         SUMINISTRO DE MEDICAMENTOS\n",
       "1391434                                            OXIGENO\n",
       "\n",
       "[81727 rows x 1 columns]"
      ]
     },
     "execution_count": 7,
     "metadata": {},
     "output_type": "execute_result"
    }
   ],
   "source": [
    "contratos.loc[contratos\n",
    "              .objeto_contratar\n",
    "              .str.contains('Medicamentos', \n",
    "                            regex=True),\n",
    "              ['detalle_objeto_contratar']]"
   ]
  },
  {
   "cell_type": "code",
   "execution_count": 8,
   "metadata": {},
   "outputs": [
    {
     "data": {
      "text/html": [
       "<div>\n",
       "<style scoped>\n",
       "    .dataframe tbody tr th:only-of-type {\n",
       "        vertical-align: middle;\n",
       "    }\n",
       "\n",
       "    .dataframe tbody tr th {\n",
       "        vertical-align: top;\n",
       "    }\n",
       "\n",
       "    .dataframe thead th {\n",
       "        text-align: right;\n",
       "    }\n",
       "</style>\n",
       "<table border=\"1\" class=\"dataframe\">\n",
       "  <thead>\n",
       "    <tr style=\"text-align: right;\">\n",
       "      <th></th>\n",
       "      <th>anno_cargue</th>\n",
       "      <th>anno_firma</th>\n",
       "      <th>nivel_entidad</th>\n",
       "      <th>orden_entidad</th>\n",
       "      <th>nombre_entidad</th>\n",
       "      <th>nit_entidad</th>\n",
       "      <th>tipo_proceso</th>\n",
       "      <th>estado_proceso</th>\n",
       "      <th>causa_otras_formas_contr_directa</th>\n",
       "      <th>regimen_contratacion</th>\n",
       "      <th>...</th>\n",
       "      <th>valor_adiciones</th>\n",
       "      <th>valor_total_con_adiciones</th>\n",
       "      <th>objeto_contrato_a_la_firma</th>\n",
       "      <th>moneda</th>\n",
       "      <th>ruta_web</th>\n",
       "      <th>municipio_entidad</th>\n",
       "      <th>departamento_entidad</th>\n",
       "      <th>nombre_entidad_mod</th>\n",
       "      <th>dep_codigo_divipola</th>\n",
       "      <th>municipio_codigo_divipola</th>\n",
       "    </tr>\n",
       "  </thead>\n",
       "  <tbody>\n",
       "  </tbody>\n",
       "</table>\n",
       "<p>0 rows × 46 columns</p>\n",
       "</div>"
      ],
      "text/plain": [
       "Empty DataFrame\n",
       "Columns: [anno_cargue, anno_firma, nivel_entidad, orden_entidad, nombre_entidad, nit_entidad, tipo_proceso, estado_proceso, causa_otras_formas_contr_directa, regimen_contratacion, objeto_contratar, detalle_objeto_contratar, tipo_contrato, municipio_obtencion, municipio_entrega, municipio_ejecucion, fecha_cargue_secop, cuantia_proceso, nombre_grupo, nombre_familia, nombre_clase, tipo_id_contratista, id_contratista, razon_social_contratista, dpto_mcpo_contratista, tipo_doc_representate_legal, id_representante_legal, nombre_representante_legal, fecha_firma_contrato, fecha_inicio_ejec_contrato, plazo_ejec_contrato, rango_ejec_contrato, tiempo_adiciones_dias, tiempo_adiciones_meses, fecha_fin_ejec_contrato, cuantia_contrato, valor_adiciones, valor_total_con_adiciones, objeto_contrato_a_la_firma, moneda, ruta_web, municipio_entidad, departamento_entidad, nombre_entidad_mod, dep_codigo_divipola, municipio_codigo_divipola]\n",
       "Index: []\n",
       "\n",
       "[0 rows x 46 columns]"
      ]
     },
     "execution_count": 8,
     "metadata": {},
     "output_type": "execute_result"
    }
   ],
   "source": [
    "contratos.loc[contratos\n",
    "              .municipio_entidad \n",
    "              .str.contains('Ocaña', \n",
    "                            regex=True)]"
   ]
  },
  {
   "cell_type": "code",
   "execution_count": 12,
   "metadata": {},
   "outputs": [
    {
     "data": {
      "text/plain": [
       "array(['SAN JOSÉ DE CÚCUTA', 'CHINÁCOTA', 'OCAÑA', 'EL ZULIA',\n",
       "       'LOS PATIOS', 'ABREGO', 'PAMPLONA', 'VILLA DEL ROSARIO', 'HERRÁN'],\n",
       "      dtype=object)"
      ]
     },
     "execution_count": 12,
     "metadata": {},
     "output_type": "execute_result"
    }
   ],
   "source": [
    "contratos.loc[contratos.departamento_entidad == 'NORTE DE SANTANDER']['municipio_entidad'].unique()"
   ]
  },
  {
   "cell_type": "code",
   "execution_count": 13,
   "metadata": {},
   "outputs": [
    {
     "data": {
      "text/plain": [
       "array(['NORTE DE SANTANDER - E.S.E. HOSPITAL EMIRO QUINTERO CAÑIZARES DE OCAÑA'],\n",
       "      dtype=object)"
      ]
     },
     "execution_count": 13,
     "metadata": {},
     "output_type": "execute_result"
    }
   ],
   "source": [
    "contratos.loc[contratos.municipio_entidad == 'OCAÑA'].nombre_entidad.unique()"
   ]
  },
  {
   "cell_type": "code",
   "execution_count": 17,
   "metadata": {},
   "outputs": [],
   "source": [
    "contratos.loc[(contratos.nombre_entidad == 'NORTE DE SANTANDER - E.S.E. HOSPITAL EMIRO QUINTERO CAÑIZARES DE OCAÑA')\n",
    "              & (contratos.anno_firma >= 2019)].to_clipboard()"
   ]
  },
  {
   "cell_type": "code",
   "execution_count": 10,
   "metadata": {},
   "outputs": [
    {
     "data": {
      "text/plain": [
       "array(['CAUCA', 'BOYACÁ', 'ANTIOQUIA', 'TOLIMA', 'NARIÑO', 'HUILA',\n",
       "       'MAGDALENA', 'BOGOTÁ D.C.', 'CALDAS', 'ATLÁNTICO', 'CUNDINAMARCA',\n",
       "       'VALLE DEL CAUCA', 'ARAUCA', 'QUINDÍO', 'CÓRDOBA', 'CESAR',\n",
       "       'CAQUETÁ', 'BOLÍVAR', 'RISARALDA', 'GUAVIARE', 'META',\n",
       "       'NORTE DE SANTANDER', 'CASANARE', 'SANTANDER', 'VICHADA', 'SUCRE',\n",
       "       'LA GUAJIRA', 'PUTUMAYO', 'VAUPÉS', 'AMAZONAS', 'CHOCÓ', 'GUAINÍA'],\n",
       "      dtype=object)"
      ]
     },
     "execution_count": 10,
     "metadata": {},
     "output_type": "execute_result"
    }
   ],
   "source": [
    "contratos['departamento_entidad'].unique()"
   ]
  },
  {
   "cell_type": "code",
   "execution_count": 20,
   "metadata": {},
   "outputs": [],
   "source": [
    "contratos_altos = contratos.loc[contratos.cuantia_contrato >= 1e8].copy()"
   ]
  },
  {
   "cell_type": "code",
   "execution_count": 22,
   "metadata": {},
   "outputs": [
    {
     "data": {
      "text/plain": [
       "tipo_contrato\n",
       "Acuerdo Marco                  6\n",
       "Compraventa                 2327\n",
       "Concesión                     30\n",
       "Consultoría                  113\n",
       "Interventoría                 65\n",
       "No definido                    1\n",
       "Obra                         989\n",
       "Otro Tipo de Contrato       1764\n",
       "Prestación de Servicios    22972\n",
       "Suministro                 12025\n",
       "dtype: int64"
      ]
     },
     "execution_count": 22,
     "metadata": {},
     "output_type": "execute_result"
    }
   ],
   "source": [
    "contratos_altos.groupby('tipo_contrato').size()"
   ]
  },
  {
   "cell_type": "code",
   "execution_count": 38,
   "metadata": {},
   "outputs": [],
   "source": [
    "con_altos_suministro = contratos.loc[(contratos.cuantia_contrato >= 1e7) & \n",
    "                                     (contratos.tipo_contrato == 'Suministro')]"
   ]
  },
  {
   "cell_type": "code",
   "execution_count": 41,
   "metadata": {},
   "outputs": [
    {
     "data": {
      "text/plain": [
       "tipo_proceso\n",
       "Régimen Especial                                                                         64554\n",
       "Contratación Directa (Ley 1150 de 2007)                                                  10671\n",
       "Contratación Mínima Cuantía                                                                827\n",
       "Licitación Pública                                                                         790\n",
       "Selección Abreviada de Menor Cuantía (Ley 1150 de 2007)                                    243\n",
       "Subasta                                                                                    159\n",
       "Selección Abreviada servicios de Salud                                                      91\n",
       "Selección Abreviada del literal h del numeral 2 del artículo 2 de la Ley 1150 de 2007        3\n",
       "Contratos y convenios con más de dos partes                                                  2\n",
       "Concurso de Méritos Abierto                                                                  2\n",
       "dtype: int64"
      ]
     },
     "execution_count": 41,
     "metadata": {},
     "output_type": "execute_result"
    }
   ],
   "source": [
    "con_altos_suministro.groupby('tipo_proceso').size().sort_values(ascending=False)"
   ]
  },
  {
   "cell_type": "code",
   "execution_count": 42,
   "metadata": {},
   "outputs": [],
   "source": [
    "con_bajos_suministro = contratos.loc[(contratos.cuantia_contrato <= 1000) & \n",
    "                                     (contratos.tipo_contrato == 'Suministro')]"
   ]
  },
  {
   "cell_type": "code",
   "execution_count": 43,
   "metadata": {},
   "outputs": [
    {
     "data": {
      "text/plain": [
       "tipo_proceso\n",
       "Régimen Especial                           237\n",
       "Contratación Directa (Ley 1150 de 2007)     34\n",
       "Contratación Mínima Cuantía                  4\n",
       "Licitación Pública                           1\n",
       "dtype: int64"
      ]
     },
     "execution_count": 43,
     "metadata": {},
     "output_type": "execute_result"
    }
   ],
   "source": [
    "con_bajos_suministro.groupby('tipo_proceso').size().sort_values(ascending=False)"
   ]
  },
  {
   "cell_type": "code",
   "execution_count": 46,
   "metadata": {},
   "outputs": [],
   "source": [
    "contratos.groupby('nombre_entidad').size().sort_values(ascending=False).to_clipboard()"
   ]
  },
  {
   "cell_type": "code",
   "execution_count": 44,
   "metadata": {},
   "outputs": [],
   "source": [
    "con_bajos_suministro.to_clipboard()"
   ]
  },
  {
   "cell_type": "code",
   "execution_count": 40,
   "metadata": {},
   "outputs": [],
   "source": [
    "con_altos_suministro[['anno_cargue', 'anno_firma', 'nivel_entidad', 'orden_entidad',\n",
    "                     'nombre_entidad', 'tipo_proceso','objeto_contratar', 'detalle_objeto_contratar', \n",
    "                     'tipo_contrato','cuantia_proceso', 'nombre_grupo','nombre_familia', 'nombre_clase',\n",
    "                     'id_contratista', 'razon_social_contratista', 'dpto_mcpo_contratista','cuantia_contrato',\n",
    "                     'valor_adiciones', 'valor_total_con_adiciones','objeto_contrato_a_la_firma','municipio_entidad',\n",
    "                     'departamento_entidad','ruta_web']].to_clipboard()"
   ]
  },
  {
   "cell_type": "code",
   "execution_count": 7,
   "metadata": {},
   "outputs": [
    {
     "name": "stdout",
     "output_type": "stream",
     "text": [
      "Se tiene 342805 contratos con valor superior a 10 millones\n"
     ]
    }
   ],
   "source": [
    "# Filtrar contratos con valor superior a 10 millones\n",
    "contratos = contratos.loc[contratos.cuantia_contrato >= 1e7]\n",
    "print(f'Se tiene {contratos.shape[0]} contratos con valor superior a 10 millones')"
   ]
  },
  {
   "cell_type": "code",
   "execution_count": 8,
   "metadata": {},
   "outputs": [],
   "source": [
    "# Agregar un columna para indicar si se tienen adiciones en tiempo\n",
    "contratos['adiciones_tiempo'] = np.where((contratos.tiempo_adiciones_dias > 0) | (contratos.tiempo_adiciones_meses > 0), 100, 0)"
   ]
  },
  {
   "cell_type": "code",
   "execution_count": 9,
   "metadata": {},
   "outputs": [
    {
     "data": {
      "text/html": [
       "<div>\n",
       "<style scoped>\n",
       "    .dataframe tbody tr th:only-of-type {\n",
       "        vertical-align: middle;\n",
       "    }\n",
       "\n",
       "    .dataframe tbody tr th {\n",
       "        vertical-align: top;\n",
       "    }\n",
       "\n",
       "    .dataframe thead th {\n",
       "        text-align: right;\n",
       "    }\n",
       "</style>\n",
       "<table border=\"1\" class=\"dataframe\">\n",
       "  <thead>\n",
       "    <tr style=\"text-align: right;\">\n",
       "      <th></th>\n",
       "      <th>nombre_entidad</th>\n",
       "      <th>nit_entidad</th>\n",
       "      <th>orden_entidad</th>\n",
       "      <th>departamento_entidad</th>\n",
       "      <th>dep_codigo_divipola</th>\n",
       "      <th>municipio_entidad</th>\n",
       "      <th>municipio_codigo_divipola</th>\n",
       "      <th>total_contratos</th>\n",
       "      <th>valor_total</th>\n",
       "      <th>valor_mediana</th>\n",
       "      <th>valor_promedio</th>\n",
       "      <th>valor_desviacion</th>\n",
       "      <th>perc_adic_valor</th>\n",
       "      <th>perc_adic_tiempo</th>\n",
       "    </tr>\n",
       "  </thead>\n",
       "  <tbody>\n",
       "    <tr>\n",
       "      <th>0</th>\n",
       "      <td>AMAZONAS - E.S.E. HOSPITAL SAN RAFAEL DE LETICIA</td>\n",
       "      <td>838000096</td>\n",
       "      <td>TERRITORIAL DEPARTAMENTAL DESCENTRALIZADO</td>\n",
       "      <td>AMAZONAS</td>\n",
       "      <td>91000</td>\n",
       "      <td>LETICIA</td>\n",
       "      <td>91001</td>\n",
       "      <td>688</td>\n",
       "      <td>47120107154</td>\n",
       "      <td>29863000.0</td>\n",
       "      <td>6.848853e+07</td>\n",
       "      <td>1.310826e+08</td>\n",
       "      <td>1.598837</td>\n",
       "      <td>1.889535</td>\n",
       "    </tr>\n",
       "    <tr>\n",
       "      <th>1</th>\n",
       "      <td>ANTIOQUIA - CORPORACIÓN HOSPITAL INFANTIL CONC...</td>\n",
       "      <td>900625317</td>\n",
       "      <td>TERRITORIAL DEPARTAMENTAL DESCENTRALIZADO</td>\n",
       "      <td>ANTIOQUIA</td>\n",
       "      <td>5000</td>\n",
       "      <td>MEDELLÍN</td>\n",
       "      <td>5001</td>\n",
       "      <td>345</td>\n",
       "      <td>39675926685</td>\n",
       "      <td>29015506.0</td>\n",
       "      <td>1.150027e+08</td>\n",
       "      <td>3.144736e+08</td>\n",
       "      <td>12.753623</td>\n",
       "      <td>8.115942</td>\n",
       "    </tr>\n",
       "    <tr>\n",
       "      <th>2</th>\n",
       "      <td>ANTIOQUIA - CORPORACIÓN HOSPITAL SAN JUAN DE D...</td>\n",
       "      <td>901249947</td>\n",
       "      <td>TERRITORIAL DEPARTAMENTAL DESCENTRALIZADO</td>\n",
       "      <td>ANTIOQUIA</td>\n",
       "      <td>5000</td>\n",
       "      <td>SANTA ROSA DE OSOS</td>\n",
       "      <td>5686</td>\n",
       "      <td>16</td>\n",
       "      <td>1863902343</td>\n",
       "      <td>30000000.0</td>\n",
       "      <td>1.164939e+08</td>\n",
       "      <td>2.126835e+08</td>\n",
       "      <td>0.000000</td>\n",
       "      <td>0.000000</td>\n",
       "    </tr>\n",
       "    <tr>\n",
       "      <th>3</th>\n",
       "      <td>ANTIOQUIA - E.S.E HOSPITAL HÉCTOR ABAD GÓMEZ -...</td>\n",
       "      <td>800143438</td>\n",
       "      <td>NACIONAL DESCENTRALIZADO</td>\n",
       "      <td>ANTIOQUIA</td>\n",
       "      <td>5000</td>\n",
       "      <td>SAN JUAN DE URABÁ</td>\n",
       "      <td>5659</td>\n",
       "      <td>278</td>\n",
       "      <td>9023362465</td>\n",
       "      <td>17677811.0</td>\n",
       "      <td>3.245814e+07</td>\n",
       "      <td>6.701872e+07</td>\n",
       "      <td>2.877698</td>\n",
       "      <td>2.877698</td>\n",
       "    </tr>\n",
       "    <tr>\n",
       "      <th>4</th>\n",
       "      <td>ANTIOQUIA - E.S.E PRESBÍTERO LUÍS FELIPE ARBEL...</td>\n",
       "      <td>800029509</td>\n",
       "      <td>TERRITORIAL DEPARTAMENTAL CENTRALIZADO</td>\n",
       "      <td>ANTIOQUIA</td>\n",
       "      <td>5000</td>\n",
       "      <td>ALEJANDRÍA</td>\n",
       "      <td>5021</td>\n",
       "      <td>44</td>\n",
       "      <td>1144048650</td>\n",
       "      <td>18811200.0</td>\n",
       "      <td>2.600111e+07</td>\n",
       "      <td>2.791815e+07</td>\n",
       "      <td>0.000000</td>\n",
       "      <td>0.000000</td>\n",
       "    </tr>\n",
       "    <tr>\n",
       "      <th>...</th>\n",
       "      <td>...</td>\n",
       "      <td>...</td>\n",
       "      <td>...</td>\n",
       "      <td>...</td>\n",
       "      <td>...</td>\n",
       "      <td>...</td>\n",
       "      <td>...</td>\n",
       "      <td>...</td>\n",
       "      <td>...</td>\n",
       "      <td>...</td>\n",
       "      <td>...</td>\n",
       "      <td>...</td>\n",
       "      <td>...</td>\n",
       "      <td>...</td>\n",
       "    </tr>\n",
       "    <tr>\n",
       "      <th>893</th>\n",
       "      <td>VALLE DEL CAUCA - HOSPITAL SIQUIÁTRICO UNIVERS...</td>\n",
       "      <td>No registra</td>\n",
       "      <td>TERRITORIAL DEPARTAMENTAL CENTRALIZADO</td>\n",
       "      <td>VALLE DEL CAUCA</td>\n",
       "      <td>76000</td>\n",
       "      <td>CALI</td>\n",
       "      <td>76001</td>\n",
       "      <td>518</td>\n",
       "      <td>56312863575</td>\n",
       "      <td>37083389.5</td>\n",
       "      <td>1.087121e+08</td>\n",
       "      <td>2.737302e+08</td>\n",
       "      <td>1.930502</td>\n",
       "      <td>0.579151</td>\n",
       "    </tr>\n",
       "    <tr>\n",
       "      <th>894</th>\n",
       "      <td>VALLE DEL CAUCA - HOSPITAL ULPIANO TASCON  QUI...</td>\n",
       "      <td>891301447</td>\n",
       "      <td>TERRITORIAL DEPARTAMENTAL CENTRALIZADO</td>\n",
       "      <td>VALLE DEL CAUCA</td>\n",
       "      <td>76000</td>\n",
       "      <td>SAN PEDRO</td>\n",
       "      <td>76670</td>\n",
       "      <td>53</td>\n",
       "      <td>2369988618</td>\n",
       "      <td>23400000.0</td>\n",
       "      <td>4.471677e+07</td>\n",
       "      <td>5.659094e+07</td>\n",
       "      <td>0.000000</td>\n",
       "      <td>0.000000</td>\n",
       "    </tr>\n",
       "    <tr>\n",
       "      <th>895</th>\n",
       "      <td>VAUPÉS - E.S.E. HOSPITAL SAN ANTONIO DE MITÚ</td>\n",
       "      <td>845000038</td>\n",
       "      <td>TERRITORIAL DEPARTAMENTAL DESCENTRALIZADO</td>\n",
       "      <td>VAUPÉS</td>\n",
       "      <td>97000</td>\n",
       "      <td>MITÚ</td>\n",
       "      <td>97001</td>\n",
       "      <td>1645</td>\n",
       "      <td>80035328459</td>\n",
       "      <td>20000000.0</td>\n",
       "      <td>4.865370e+07</td>\n",
       "      <td>6.060599e+08</td>\n",
       "      <td>4.924012</td>\n",
       "      <td>3.039514</td>\n",
       "    </tr>\n",
       "    <tr>\n",
       "      <th>896</th>\n",
       "      <td>VICHADA - E.S.E. UNIDAD BÁSICA DE ATENCIÓN NUE...</td>\n",
       "      <td>842000144-7</td>\n",
       "      <td>TERRITORIAL DEPARTAMENTAL DESCENTRALIZADO</td>\n",
       "      <td>VICHADA</td>\n",
       "      <td>99000</td>\n",
       "      <td>PUERTO CARREÑO</td>\n",
       "      <td>99001</td>\n",
       "      <td>155</td>\n",
       "      <td>5896834163</td>\n",
       "      <td>22435100.0</td>\n",
       "      <td>3.804409e+07</td>\n",
       "      <td>6.241112e+07</td>\n",
       "      <td>0.000000</td>\n",
       "      <td>0.000000</td>\n",
       "    </tr>\n",
       "    <tr>\n",
       "      <th>897</th>\n",
       "      <td>VICHADA - HOSPITAL DEPARTAMENTAL SAN JUAN DE D...</td>\n",
       "      <td>842000004</td>\n",
       "      <td>TERRITORIAL DEPARTAMENTAL DESCENTRALIZADO</td>\n",
       "      <td>VICHADA</td>\n",
       "      <td>99000</td>\n",
       "      <td>PUERTO CARREÑO</td>\n",
       "      <td>99001</td>\n",
       "      <td>847</td>\n",
       "      <td>40255676929</td>\n",
       "      <td>19583000.0</td>\n",
       "      <td>4.752736e+07</td>\n",
       "      <td>2.527975e+08</td>\n",
       "      <td>7.083825</td>\n",
       "      <td>7.201889</td>\n",
       "    </tr>\n",
       "  </tbody>\n",
       "</table>\n",
       "<p>898 rows × 14 columns</p>\n",
       "</div>"
      ],
      "text/plain": [
       "                                        nombre_entidad  nit_entidad  \\\n",
       "0     AMAZONAS - E.S.E. HOSPITAL SAN RAFAEL DE LETICIA    838000096   \n",
       "1    ANTIOQUIA - CORPORACIÓN HOSPITAL INFANTIL CONC...    900625317   \n",
       "2    ANTIOQUIA - CORPORACIÓN HOSPITAL SAN JUAN DE D...    901249947   \n",
       "3    ANTIOQUIA - E.S.E HOSPITAL HÉCTOR ABAD GÓMEZ -...    800143438   \n",
       "4    ANTIOQUIA - E.S.E PRESBÍTERO LUÍS FELIPE ARBEL...    800029509   \n",
       "..                                                 ...          ...   \n",
       "893  VALLE DEL CAUCA - HOSPITAL SIQUIÁTRICO UNIVERS...  No registra   \n",
       "894  VALLE DEL CAUCA - HOSPITAL ULPIANO TASCON  QUI...    891301447   \n",
       "895       VAUPÉS - E.S.E. HOSPITAL SAN ANTONIO DE MITÚ    845000038   \n",
       "896  VICHADA - E.S.E. UNIDAD BÁSICA DE ATENCIÓN NUE...  842000144-7   \n",
       "897  VICHADA - HOSPITAL DEPARTAMENTAL SAN JUAN DE D...    842000004   \n",
       "\n",
       "                                 orden_entidad departamento_entidad  \\\n",
       "0    TERRITORIAL DEPARTAMENTAL DESCENTRALIZADO             AMAZONAS   \n",
       "1    TERRITORIAL DEPARTAMENTAL DESCENTRALIZADO            ANTIOQUIA   \n",
       "2    TERRITORIAL DEPARTAMENTAL DESCENTRALIZADO            ANTIOQUIA   \n",
       "3                     NACIONAL DESCENTRALIZADO            ANTIOQUIA   \n",
       "4       TERRITORIAL DEPARTAMENTAL CENTRALIZADO            ANTIOQUIA   \n",
       "..                                         ...                  ...   \n",
       "893     TERRITORIAL DEPARTAMENTAL CENTRALIZADO      VALLE DEL CAUCA   \n",
       "894     TERRITORIAL DEPARTAMENTAL CENTRALIZADO      VALLE DEL CAUCA   \n",
       "895  TERRITORIAL DEPARTAMENTAL DESCENTRALIZADO               VAUPÉS   \n",
       "896  TERRITORIAL DEPARTAMENTAL DESCENTRALIZADO              VICHADA   \n",
       "897  TERRITORIAL DEPARTAMENTAL DESCENTRALIZADO              VICHADA   \n",
       "\n",
       "     dep_codigo_divipola   municipio_entidad  municipio_codigo_divipola  \\\n",
       "0                  91000             LETICIA                      91001   \n",
       "1                   5000            MEDELLÍN                       5001   \n",
       "2                   5000  SANTA ROSA DE OSOS                       5686   \n",
       "3                   5000   SAN JUAN DE URABÁ                       5659   \n",
       "4                   5000          ALEJANDRÍA                       5021   \n",
       "..                   ...                 ...                        ...   \n",
       "893                76000                CALI                      76001   \n",
       "894                76000           SAN PEDRO                      76670   \n",
       "895                97000                MITÚ                      97001   \n",
       "896                99000      PUERTO CARREÑO                      99001   \n",
       "897                99000      PUERTO CARREÑO                      99001   \n",
       "\n",
       "     total_contratos  valor_total  valor_mediana  valor_promedio  \\\n",
       "0                688  47120107154     29863000.0    6.848853e+07   \n",
       "1                345  39675926685     29015506.0    1.150027e+08   \n",
       "2                 16   1863902343     30000000.0    1.164939e+08   \n",
       "3                278   9023362465     17677811.0    3.245814e+07   \n",
       "4                 44   1144048650     18811200.0    2.600111e+07   \n",
       "..               ...          ...            ...             ...   \n",
       "893              518  56312863575     37083389.5    1.087121e+08   \n",
       "894               53   2369988618     23400000.0    4.471677e+07   \n",
       "895             1645  80035328459     20000000.0    4.865370e+07   \n",
       "896              155   5896834163     22435100.0    3.804409e+07   \n",
       "897              847  40255676929     19583000.0    4.752736e+07   \n",
       "\n",
       "     valor_desviacion  perc_adic_valor  perc_adic_tiempo  \n",
       "0        1.310826e+08         1.598837          1.889535  \n",
       "1        3.144736e+08        12.753623          8.115942  \n",
       "2        2.126835e+08         0.000000          0.000000  \n",
       "3        6.701872e+07         2.877698          2.877698  \n",
       "4        2.791815e+07         0.000000          0.000000  \n",
       "..                ...              ...               ...  \n",
       "893      2.737302e+08         1.930502          0.579151  \n",
       "894      5.659094e+07         0.000000          0.000000  \n",
       "895      6.060599e+08         4.924012          3.039514  \n",
       "896      6.241112e+07         0.000000          0.000000  \n",
       "897      2.527975e+08         7.083825          7.201889  \n",
       "\n",
       "[898 rows x 14 columns]"
      ]
     },
     "execution_count": 9,
     "metadata": {},
     "output_type": "execute_result"
    }
   ],
   "source": [
    "# Generar estadísticas de los contratos para las diferentes entidades\n",
    "groupColums = ['nombre_entidad', 'nit_entidad','orden_entidad', 'departamento_entidad',\n",
    "               'dep_codigo_divipola','municipio_entidad','municipio_codigo_divipola']\n",
    "\n",
    "porcentaje = lambda x: np.mean(x > 0)*100\n",
    "\n",
    "aggDict = {\n",
    "    \"total_contratos\": pd.NamedAgg(column='nombre_entidad', aggfunc='size'),\n",
    "    \"valor_total\": pd.NamedAgg(column='cuantia_contrato', aggfunc='sum'),\n",
    "    \"valor_mediana\": pd.NamedAgg(column='cuantia_contrato', aggfunc='median'),\n",
    "    \"valor_promedio\": pd.NamedAgg(column='cuantia_contrato', aggfunc='mean'),\n",
    "    \"valor_desviacion\": pd.NamedAgg(column='cuantia_contrato', aggfunc='std'),\n",
    "    \"perc_adic_valor\": pd.NamedAgg(column='valor_adiciones', aggfunc=porcentaje),\n",
    "    \"perc_adic_tiempo\": pd.NamedAgg(column='adiciones_tiempo', aggfunc='mean')\n",
    "}\n",
    "variablesSecop = contratos.groupby(groupColums).agg(**aggDict).reset_index()\n",
    "variablesSecop"
   ]
  },
  {
   "cell_type": "code",
   "execution_count": 10,
   "metadata": {},
   "outputs": [
    {
     "name": "stdout",
     "output_type": "stream",
     "text": [
      "Se tienen 875 con mas de tres contratos\n"
     ]
    }
   ],
   "source": [
    "# Seleccionar entidades con mas de tres contratos\n",
    "variablesSecop = variablesSecop.loc[variablesSecop.total_contratos > 3]\n",
    "print(f'Se tienen {variablesSecop.shape[0]} con mas de tres contratos')"
   ]
  },
  {
   "cell_type": "code",
   "execution_count": 11,
   "metadata": {},
   "outputs": [
    {
     "name": "stderr",
     "output_type": "stream",
     "text": [
      "<ipython-input-11-cdb52c8ce6d8>:13: SettingWithCopyWarning: \n",
      "A value is trying to be set on a copy of a slice from a DataFrame.\n",
      "Try using .loc[row_indexer,col_indexer] = value instead\n",
      "\n",
      "See the caveats in the documentation: https://pandas.pydata.org/pandas-docs/stable/user_guide/indexing.html#returning-a-view-versus-a-copy\n",
      "  variablesSecop[\"orden_entidad\"] = list(np.select(conditions, choices))\n"
     ]
    }
   ],
   "source": [
    "# Ajustar la columna orden_entidad para reducir a las categorias departamental, municipal u otro.\n",
    "\n",
    "# Primero se definen las condiciones\n",
    "conditions = [\n",
    "    variablesSecop[\"orden_entidad\"].str.contains(\"DEPARTAMENTAL\"),\n",
    "    variablesSecop[\"orden_entidad\"].str.contains(\"MUNICIPAL\"),\n",
    "    True]\n",
    "\n",
    "# Luego las opciones de selección\n",
    "choices = [\"Departamental\", \"Municipal\", \"Otro\"]\n",
    "\n",
    "# Modificar la columna\n",
    "variablesSecop[\"orden_entidad\"] = list(np.select(conditions, choices))"
   ]
  },
  {
   "cell_type": "code",
   "execution_count": 12,
   "metadata": {},
   "outputs": [
    {
     "data": {
      "text/plain": [
       "orden_entidad\n",
       "Departamental    724\n",
       "Municipal        135\n",
       "Otro              16\n",
       "dtype: int64"
      ]
     },
     "execution_count": 12,
     "metadata": {},
     "output_type": "execute_result"
    }
   ],
   "source": [
    "variablesSecop.groupby([\"orden_entidad\"]).size()"
   ]
  },
  {
   "cell_type": "code",
   "execution_count": 13,
   "metadata": {},
   "outputs": [],
   "source": [
    "variablesSecop.to_csv('Datos/variables-secop.csv.gz', index=False, sep = \";\")  "
   ]
  }
 ],
 "metadata": {
  "kernelspec": {
   "display_name": "Python 3",
   "language": "python",
   "name": "python3"
  },
  "language_info": {
   "codemirror_mode": {
    "name": "ipython",
    "version": 3
   },
   "file_extension": ".py",
   "mimetype": "text/x-python",
   "name": "python",
   "nbconvert_exporter": "python",
   "pygments_lexer": "ipython3",
   "version": "3.8.3"
  }
 },
 "nbformat": 4,
 "nbformat_minor": 4
}
